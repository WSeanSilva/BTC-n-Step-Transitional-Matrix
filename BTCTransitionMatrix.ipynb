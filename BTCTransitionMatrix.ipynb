{
 "cells": [
  {
   "cell_type": "code",
   "execution_count": null,
   "id": "afbf8041-7570-403c-bd3b-a995dc9c789b",
   "metadata": {},
   "outputs": [],
   "source": []
  },
  {
   "cell_type": "code",
   "execution_count": 22,
   "id": "83a811ed-8919-4801-8915-8fb4a18dde32",
   "metadata": {
    "tags": []
   },
   "outputs": [],
   "source": [
    "# Import packages\n",
    "import pandas as pd\n",
    "import numpy as np\n",
    "import yfinance as yf\n",
    "import pandas_datareader as pdr\n",
    "import statsmodels.api as sm\n",
    "import math as ma"
   ]
  },
  {
   "cell_type": "code",
   "execution_count": 23,
   "id": "dd8014d8-6bd1-4548-9268-6c2662a50650",
   "metadata": {},
   "outputs": [
    {
     "name": "stderr",
     "output_type": "stream",
     "text": [
      "[*********************100%%**********************]  1 of 1 completed\n"
     ]
    },
    {
     "data": {
      "text/html": [
       "<div>\n",
       "<style scoped>\n",
       "    .dataframe tbody tr th:only-of-type {\n",
       "        vertical-align: middle;\n",
       "    }\n",
       "\n",
       "    .dataframe tbody tr th {\n",
       "        vertical-align: top;\n",
       "    }\n",
       "\n",
       "    .dataframe thead th {\n",
       "        text-align: right;\n",
       "    }\n",
       "</style>\n",
       "<table border=\"1\" class=\"dataframe\">\n",
       "  <thead>\n",
       "    <tr style=\"text-align: right;\">\n",
       "      <th></th>\n",
       "      <th>Close</th>\n",
       "    </tr>\n",
       "    <tr>\n",
       "      <th>Date</th>\n",
       "      <th></th>\n",
       "    </tr>\n",
       "  </thead>\n",
       "  <tbody>\n",
       "    <tr>\n",
       "      <th>2014-09-18</th>\n",
       "      <td>-0.071926</td>\n",
       "    </tr>\n",
       "    <tr>\n",
       "      <th>2014-09-19</th>\n",
       "      <td>-0.069843</td>\n",
       "    </tr>\n",
       "    <tr>\n",
       "      <th>2014-09-20</th>\n",
       "      <td>0.035735</td>\n",
       "    </tr>\n",
       "    <tr>\n",
       "      <th>2014-09-21</th>\n",
       "      <td>-0.024659</td>\n",
       "    </tr>\n",
       "    <tr>\n",
       "      <th>2014-09-22</th>\n",
       "      <td>0.008352</td>\n",
       "    </tr>\n",
       "    <tr>\n",
       "      <th>2014-09-23</th>\n",
       "      <td>0.083647</td>\n",
       "    </tr>\n",
       "  </tbody>\n",
       "</table>\n",
       "</div>"
      ],
      "text/plain": [
       "               Close\n",
       "Date                \n",
       "2014-09-18 -0.071926\n",
       "2014-09-19 -0.069843\n",
       "2014-09-20  0.035735\n",
       "2014-09-21 -0.024659\n",
       "2014-09-22  0.008352\n",
       "2014-09-23  0.083647"
      ]
     },
     "execution_count": 23,
     "metadata": {},
     "output_type": "execute_result"
    }
   ],
   "source": [
    "#Loading And Preparing Data From YF\n",
    "ticker = 'BTC-USD'\n",
    "\n",
    "stock_data = yf.download(ticker, interval = '1d')['Close'].dropna().to_frame()\n",
    "\n",
    "stock_data = stock_data.pct_change().dropna()\n",
    "\n",
    "data = stock_data\n",
    "\n",
    "data.head(6)\n"
   ]
  },
  {
   "cell_type": "code",
   "execution_count": 24,
   "id": "70002753-ca45-4c72-b736-64a778ca297b",
   "metadata": {},
   "outputs": [],
   "source": [
    "# Classifying Changes into States\n",
    "def classify_change(x):\n",
    "    if x > 0.06:\n",
    "        return 'Significant Increase'\n",
    "    elif x >= 0.02:\n",
    "        return 'Slight Increase'\n",
    "    elif x > -0.02:\n",
    "        return 'No Change'\n",
    "    elif x >= -0.06:\n",
    "        return 'Slight Decrease'\n",
    "    else:\n",
    "        return 'Significant Decrease'\n",
    "#Applying Classification\n",
    "data['State'] = data['Close'].apply(classify_change)\n",
    "        "
   ]
  },
  {
   "cell_type": "code",
   "execution_count": 25,
   "id": "7603c1ca-835d-4282-83da-4c0202a3593e",
   "metadata": {},
   "outputs": [
    {
     "data": {
      "text/plain": [
       "Date\n",
       "2014-09-18    Significant Decrease\n",
       "2014-09-19    Significant Decrease\n",
       "2014-09-20         Slight Increase\n",
       "2014-09-21         Slight Decrease\n",
       "2014-09-22               No Change\n",
       "Name: State, dtype: object"
      ]
     },
     "execution_count": 25,
     "metadata": {},
     "output_type": "execute_result"
    }
   ],
   "source": [
    "data['State'].head()"
   ]
  },
  {
   "cell_type": "code",
   "execution_count": 26,
   "id": "c9ba7c47-d992-4701-b73b-7924310ec976",
   "metadata": {},
   "outputs": [],
   "source": [
    "#Creating Transition Matrix\n",
    "data['Previous State'] = data['State'].shift(1)\n",
    "\n",
    "#Creating Transition Matrix\n",
    "transition_matrix = pd.crosstab(data['Previous State'], data['State'], normalize = 'index')"
   ]
  },
  {
   "cell_type": "code",
   "execution_count": 27,
   "id": "5f90329d-0f74-487a-be9a-c3f2db391571",
   "metadata": {},
   "outputs": [
    {
     "name": "stdout",
     "output_type": "stream",
     "text": [
      "State                 No Change  Significant Decrease  Significant Increase  \\\n",
      "Previous State                                                                \n",
      "No Change              0.652697              0.033719              0.035645   \n",
      "Significant Decrease   0.408805              0.100629              0.132075   \n",
      "Significant Increase   0.433526              0.086705              0.098266   \n",
      "Slight Decrease        0.525773              0.080412              0.057732   \n",
      "Slight Increase        0.541391              0.029801              0.054636   \n",
      "\n",
      "State                 Slight Decrease  Slight Increase  \n",
      "Previous State                                          \n",
      "No Change                    0.127649         0.150289  \n",
      "Significant Decrease         0.138365         0.220126  \n",
      "Significant Increase         0.196532         0.184971  \n",
      "Slight Decrease              0.129897         0.206186  \n",
      "Slight Increase              0.167219         0.206954  \n"
     ]
    }
   ],
   "source": [
    "print(transition_matrix)"
   ]
  },
  {
   "cell_type": "code",
   "execution_count": 29,
   "id": "0ac2df1d-2d5c-4c8e-9052-67d5c842ed27",
   "metadata": {},
   "outputs": [
    {
     "name": "stdin",
     "output_type": "stream",
     "text": [
      "Enter How Many Steps 1\n"
     ]
    },
    {
     "name": "stdout",
     "output_type": "stream",
     "text": [
      "State                 No Change  Significant Decrease  Significant Increase  \\\n",
      "Previous State                                                                \n",
      "No Change              0.652697              0.033719              0.035645   \n",
      "Significant Decrease   0.408805              0.100629              0.132075   \n",
      "Significant Increase   0.433526              0.086705              0.098266   \n",
      "Slight Decrease        0.525773              0.080412              0.057732   \n",
      "Slight Increase        0.541391              0.029801              0.054636   \n",
      "\n",
      "State                 Slight Decrease  Slight Increase  \n",
      "Previous State                                          \n",
      "No Change                    0.127649         0.150289  \n",
      "Significant Decrease         0.138365         0.220126  \n",
      "Significant Increase         0.196532         0.184971  \n",
      "Slight Decrease              0.129897         0.206186  \n",
      "Slight Increase              0.167219         0.206954  \n"
     ]
    }
   ],
   "source": [
    "#Create n-step transition matrix\n",
    "def compute_n_step_transition_matrix(matrix, n):\n",
    "    return np.linalg.matrix_power(matrix, n)\n",
    "\n",
    "transition_matrix_np = transition_matrix.to_numpy()\n",
    "n_steps = input(\"Enter How Many Steps\")\n",
    "n_steps = int(n_steps)\n",
    "n_step_matrix = compute_n_step_transition_matrix(transition_matrix_np, n_steps)\n",
    "n_step_matrix_df = pd.DataFrame(n_step_matrix, index=transition_matrix.index, columns=transition_matrix.columns)\n",
    "\n",
    "# Print the n-step transition matrix\n",
    "print(n_step_matrix_df)"
   ]
  },
  {
   "cell_type": "code",
   "execution_count": null,
   "id": "553af549-4010-4b2f-81ad-e155b85cea79",
   "metadata": {},
   "outputs": [],
   "source": []
  }
 ],
 "metadata": {
  "kernelspec": {
   "display_name": "Python 3 (ipykernel)",
   "language": "python",
   "name": "python3"
  },
  "language_info": {
   "codemirror_mode": {
    "name": "ipython",
    "version": 3
   },
   "file_extension": ".py",
   "mimetype": "text/x-python",
   "name": "python",
   "nbconvert_exporter": "python",
   "pygments_lexer": "ipython3",
   "version": "3.11.5"
  }
 },
 "nbformat": 4,
 "nbformat_minor": 5
}
